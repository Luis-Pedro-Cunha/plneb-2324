{
 "cells": [
  {
   "cell_type": "markdown",
   "metadata": {
    "id": "oVaAea-wCM6H"
   },
   "source": [
    "# Ficha de Expressões Regulares 1"
   ]
  },
  {
   "cell_type": "markdown",
   "metadata": {
    "id": "gk5jnHXt9t4y"
   },
   "source": [
    "### Conceitos básicos de expressões regulares\n",
    "\n",
    "- `a` - corresponde a uma ocorrência do caracter `a`.\n",
    "- `a?` - corresponde a 0 ou 1 ocorrências do caracter `a`.\n",
    "- `a+` - corresponde a 1 ou mais ocorrências do caracter `a`.\n",
    "- `a*` - corresponde a 0 ou mais ocorrências do caracter `a`.\n",
    "- `[abc]` - corresponde a uma ocorrência de um dos caracteres `a`, `b` ou `c`.\n",
    "- `[a-z]` - corresponde a uma ocorrência de um caracter entre `a` e `z`.\n",
    "- `^` - corresponde ao início da string.\n",
    "- `$` - corresponde ao fim da string.\n",
    "- `[^abc]` - corresponde a uma ocorrência de qualquer caracter que não seja `a`, `b` ou `c`.\n",
    "\n",
    "Podemos usar o operador de união para unir várias expressões regulares. Por exemplo: `a|bbb|[^a-z]`, que corresponde a uma das várias (neste caso, 3) expressões regulares que fazem parte da união.\n",
    "\n",
    "Podemos simplificar expressões regulares como `bbb` para `b{3}`, ou seja, 3 ocorrências consecutivas do caracter `b`, neste caso. Outras opções incluem `b{3,}` para 3 ou mais ocorrências ou `b{3,6}` para entre 3 a 6 ocorrências, por exemplo.\n",
    "\n",
    "Para formar grupos de expressões regulares, usamos parênteses. Por exemplo: `((abc)*|[0-9]+)?`. Os operadores após um grupo atuam sobre o grupo.\n",
    "\n",
    "Podemos ainda aplicar modificadores a grupos. Por exemplo, `(?i:teste)` corresponde à expressão \"teste\", escrita com qualquer combinação de maiúsculas e minúsculas (e.g., \"TESTE\", \"tEsTe\", \"TEste\", etc.)."
   ]
  },
  {
   "cell_type": "markdown",
   "metadata": {
    "id": "yDRt0yOgJ-TW"
   },
   "source": [
    "## Exercício 1"
   ]
  },
  {
   "cell_type": "markdown",
   "metadata": {
    "id": "gI05knhniDCr"
   },
   "source": [
    "### Alínea 1.1\n",
    "\n",
    "Dada uma linha de texto, define um programa que determina se a palavra \"hello\" aparece no início da linha.\n",
    "\n",
    "Conceitos importantes para este exercício:\n",
    "\n",
    "- `re.match(pattern, string[, flags])` - analisa a `string` e tenta encontrar uma correspondência para a expressão regular `pattern` a partir do início da string. Devolve `None` se não encontrar nenhuma correspondência.\n",
    "- `r\"\"` - string correspondente a uma expressão regular."
   ]
  },
  {
   "cell_type": "code",
   "execution_count": 2,
   "metadata": {
    "id": "ufl-7TGph9WH"
   },
   "outputs": [
    {
     "name": "stdout",
     "output_type": "stream",
     "text": [
      "'hello' was found at the start of the string!\n",
      "'hello' was NOT found at the start of the string!\n",
      "'hello' was NOT found at the start of the string!\n"
     ]
    }
   ],
   "source": [
    "import re\n",
    "\n",
    "line1 = \"hello world\"\n",
    "line2 = \"goodbye world\"\n",
    "line3 = \"hi, hello there\"\n",
    "\n",
    "def find_hello_start(string):\n",
    "    if re.match(\"^hello\", string):\n",
    "        message = \"'hello' was found at the start of the string!\"\n",
    "    else:\n",
    "        message = \"'hello' was NOT found at the start of the string!\"\n",
    "    return message\n",
    "        \n",
    "print(find_hello_start(line1))\n",
    "print(find_hello_start(line2))\n",
    "print(find_hello_start(line3))"
   ]
  },
  {
   "cell_type": "markdown",
   "metadata": {
    "id": "gzgOACqiJ7VN"
   },
   "source": [
    "### Alínea 1.2\n",
    "\n",
    "Dada uma linha de texto, define um programa que determina se a palavra \"hello\" aparece em qualquer posição da linha.\n",
    "\n",
    "Conceitos importantes para este exercício:\n",
    "\n",
    "- `re.search(pattern, string[, flags])` - analisa a `string` e tenta encontrar uma correspondência para a expressão regular `pattern` em qualquer posição da string. Devolve `None` se não encontrar nenhuma correspondência."
   ]
  },
  {
   "cell_type": "code",
   "execution_count": 3,
   "metadata": {
    "id": "TM-qMl-yJ7VS"
   },
   "outputs": [
    {
     "name": "stdout",
     "output_type": "stream",
     "text": [
      "'hello' was found in the string!\n",
      "'hello' was NOT found in the string!\n",
      "'hello' was found in the string!\n"
     ]
    }
   ],
   "source": [
    "line1 = \"hello world\"\n",
    "line2 = \"goodbye world\"\n",
    "line3 = \"hi, hello there\"\n",
    "\n",
    "def find_hello(string):\n",
    "    if re.search(\"hello\", string):\n",
    "        message = \"'hello' was found in the string!\"\n",
    "    else:\n",
    "        message = \"'hello' was NOT found in the string!\"\n",
    "    return message\n",
    "        \n",
    "print(find_hello(line1))\n",
    "print(find_hello(line2))\n",
    "print(find_hello(line3))"
   ]
  },
  {
   "cell_type": "markdown",
   "metadata": {
    "id": "6ZE7klswOy90"
   },
   "source": [
    "### Alínea 1.3\n",
    "\n",
    "Dada uma linha de texto, define um programa que pesquisa por todas as ocorrências da palavra \"hello\" dentro da linha, admitindo que a palavra seja escrita com maiúsculas ou minúsculas.\n",
    "\n",
    "Conceitos importantes para este exercício:\n",
    "\n",
    "- `re.findall(pattern, string[, flags])` - encontra todas as correspondências que não se sobreponham da expressão regular `pattern` na `string`. Devolve uma lista."
   ]
  },
  {
   "cell_type": "code",
   "execution_count": 9,
   "metadata": {
    "id": "aHB_l7g5OzNY"
   },
   "outputs": [
    {
     "name": "stdout",
     "output_type": "stream",
     "text": [
      "'hello' was found in the string 2 times!\n"
     ]
    }
   ],
   "source": [
    "line = \"Hello there! Uh, hi, hello, it's me... Heyyy, hello? HELLO!\"\n",
    "\n",
    "def find_all_hello(string):\n",
    "    if len(re.findall(\"(?i:hello)\", string)) > 0:\n",
    "        message = \"'hello' was found in the string %s times!\" % str(len(re.findall(\"(?i:hello)\", string)))\n",
    "    else:\n",
    "        message = \"'hello' was NOT found in the string!\"\n",
    "    return message\n",
    "        \n",
    "print(find_all_hello(line))"
   ]
  },
  {
   "cell_type": "markdown",
   "metadata": {
    "id": "TSwUj26OPRmP"
   },
   "source": [
    "### Alínea 1.4\n",
    "\n",
    "Dada uma linha de texto, define um programa que pesquisa por todas as ocorrências da palavra \"hello\" dentro da linha, substituindo cada uma por \"\\*YEP\\*\".\n",
    "\n",
    "Conceitos importantes para este exercício:\n",
    "\n",
    "- `re.sub(pattern, replacement, string, count = 0, flags = 0)` - substitui todas as correspondências da expressão regular `pattern` na `string` por `replacement`. `replacement` pode ser uma string, uma expressão regular ou uma função que recebe uma correspondência e devolve uma string. O parâmetro `count` determina o limite de substituições (por defeito é 0, ou seja, não há limite)."
   ]
  },
  {
   "cell_type": "code",
   "execution_count": 10,
   "metadata": {
    "id": "SXLK2rhMPf11"
   },
   "outputs": [
    {
     "name": "stdout",
     "output_type": "stream",
     "text": [
      "YEP there! Uh, hi, YEP, it's me... Heyyy, YEP? YEP!\n"
     ]
    }
   ],
   "source": [
    "line = \"Hello there! Uh, hi, hello, it's me... Heyyy, hello? HELLO!\"\n",
    "\n",
    "def hello_to_yep(string):\n",
    "    if re.search(\"(?i:hello)\", string):\n",
    "        message = re.sub(\"(?i:hello)\", \"YEP\", string)\n",
    "    else:\n",
    "        message = \"'hello' was NOT found in the string!\"\n",
    "    return message\n",
    "\n",
    "print(hello_to_yep(line))"
   ]
  },
  {
   "cell_type": "markdown",
   "metadata": {
    "id": "MrgsEzJCPgbO"
   },
   "source": [
    "### Alínea 1.5\n",
    "\n",
    "Dada uma linha de texto, define um programa que pesquisa por todas as ocorrências do caracter vírgula, separando cada parte da linha por esse caracter.\n",
    "\n",
    "Conceitos importantes para este exercício:\n",
    "\n",
    "- `re.split(pattern, string, maxsplit = 0, flags = 0)` - divide a `string` com base nas correspondências da expressão regular `pattern`. O parâmetro `maxsplit` pode ser usado para definir um limite de divisões (por defeito é 0, que corresponde a divisões infinitas)."
   ]
  },
  {
   "cell_type": "code",
   "execution_count": 13,
   "metadata": {
    "id": "vrwiid6XPgvg"
   },
   "outputs": [
    {
     "name": "stdout",
     "output_type": "stream",
     "text": [
      "['bananas', ' laranjas', ' maçãs', ' uvas', ' melancias', ' cerejas', ' kiwis', ' etc.']\n"
     ]
    }
   ],
   "source": [
    "line = \"bananas, laranjas, maçãs, uvas, melancias, cerejas, kiwis, etc.\"\n",
    "\n",
    "def split_comma(string):\n",
    "    split_line = re.split(\",\", string)\n",
    "    return split_line\n",
    "\n",
    "print(split_comma(line))"
   ]
  },
  {
   "cell_type": "markdown",
   "metadata": {
    "id": "6QP0erT4iSzE"
   },
   "source": [
    "## Exercício 2\n",
    "\n",
    "Define a função `palavra_magica` que recebe uma frase e determina se a mesma termina com a expressão \"por favor\", seguida de um sinal válido de pontuação."
   ]
  },
  {
   "cell_type": "code",
   "execution_count": 15,
   "metadata": {
    "id": "MhCC49z7jU7n"
   },
   "outputs": [
    {
     "name": "stdout",
     "output_type": "stream",
     "text": [
      "Palavra mágica reconhecida!\n",
      "Qual é a palavra mágica?\n"
     ]
    }
   ],
   "source": [
    "def palavra_magica(frase):\n",
    "    if re.search(\"por favor[^\\s\\w\\d]\", frase):\n",
    "        message = \"Palavra mágica reconhecida!\"\n",
    "    else:\n",
    "        message = \"Qual é a palavra mágica?\"\n",
    "    return message\n",
    "\n",
    "print(palavra_magica(\"Posso ir à casa de banho, por favor?\"))\n",
    "print(palavra_magica(\"Preciso de um favor.\"))"
   ]
  },
  {
   "cell_type": "markdown",
   "metadata": {
    "id": "L71wvPCujpBD"
   },
   "source": [
    "## Exercício 3\n",
    "\n",
    "Define a função `narcissismo` que calcula quantas vezes a palavra \"eu\" aparece numa string."
   ]
  },
  {
   "cell_type": "code",
   "execution_count": 18,
   "metadata": {
    "id": "0HxFCow5nOj8"
   },
   "outputs": [
    {
     "name": "stdout",
     "output_type": "stream",
     "text": [
      "Foi narcisista 6 vezes!\n"
     ]
    }
   ],
   "source": [
    "def narcissismo(linha):\n",
    "    if len(re.findall(\"(?i:eu)\", linha)) > 0:\n",
    "        message = \"Foi narcisista %s vezes!\" % str(len(re.findall(\"(?i:eu)\", linha)))\n",
    "    else:\n",
    "        message = \"Parabéns! Não foi narcisista!\"\n",
    "    return message\n",
    "\n",
    "print(narcissismo(\"Eu não sei se eu quero continuar a ser eu. Por outro lado, eu ser eu é uma parte importante de quem EU sou.\"))"
   ]
  },
  {
   "cell_type": "markdown",
   "metadata": {
    "id": "EKETfRaOolO4"
   },
   "source": [
    "## Exercício 4\n",
    "\n",
    "Define a função `troca_de_curso` que substitui todas as ocorrências de \"LEI\" numa linha pelo nome do curso dado à função."
   ]
  },
  {
   "cell_type": "code",
   "execution_count": 21,
   "metadata": {
    "id": "8ZVPMxfZpRrx"
   },
   "outputs": [
    {
     "name": "stdout",
     "output_type": "stream",
     "text": [
      "LEBiom é o melhor curso! Adoro LEBiom! Gostar de LEBiom devia ser uma lei.\n"
     ]
    }
   ],
   "source": [
    "def troca_de_curso(linha, novo_curso):\n",
    "    if re.search(\"LEI\", linha):\n",
    "        message = re.sub(\"LEI\", novo_curso, linha)\n",
    "    else:\n",
    "        message = \"'LEI' não se encontra na frase!\"\n",
    "    return message\n",
    "\n",
    "print(troca_de_curso(\"LEI é o melhor curso! Adoro LEI! Gostar de LEI devia ser uma lei.\", \"LEBiom\"))"
   ]
  },
  {
   "cell_type": "markdown",
   "metadata": {
    "id": "GZKMkTKcp886"
   },
   "source": [
    "## Exercício 5\n",
    "\n",
    "Define a função `soma_string` que recebe uma string com vários números separados por uma vírgula (e.g., \"1,2,3,4,5\") e devolve a soma destes números."
   ]
  },
  {
   "cell_type": "code",
   "execution_count": 23,
   "metadata": {
    "id": "ExqmZwj_rzuR"
   },
   "outputs": [
    {
     "name": "stdout",
     "output_type": "stream",
     "text": [
      "A soma dos números da linha é 6\n"
     ]
    }
   ],
   "source": [
    "def soma_string(linha):\n",
    "    split_line = re.split(\",\", linha)\n",
    "    soma = 0\n",
    "    for i in split_line:\n",
    "        soma = soma + int(i)\n",
    "    message = \"A soma dos números da linha é %s\" % str(soma)\n",
    "    return message\n",
    "\n",
    "print(soma_string(\"4,-6,2,3,8,-3,0,2,-5,1\"))"
   ]
  },
  {
   "cell_type": "markdown",
   "metadata": {
    "id": "n49iafoNzw-3"
   },
   "source": [
    "## Exercício 6\n",
    "\n",
    "Define a função `pronomes` que encontra e devolve todos os pronomes pessoais presentes numa frase, i.e., \"eu\", \"tu\", \"ele\", \"ela\", etc., com atenção para letras maiúsculas ou minúsculas."
   ]
  },
  {
   "cell_type": "code",
   "execution_count": 27,
   "metadata": {
    "id": "RnuCrz2H0DWq"
   },
   "outputs": [
    {
     "name": "stdout",
     "output_type": "stream",
     "text": [
      "\n",
      "    ~~~~~~Pronomes encontrados:~~~~~\n",
      "    \n",
      "    Eu: 1\n",
      "    Tu: 1\n",
      "    Ele: 0\n",
      "    Ela: 0\n",
      "    Nós: 0\n",
      "    Vós: 0\n",
      "    Eles: 1\n",
      "    Elas: 1\n",
      "    \n"
     ]
    }
   ],
   "source": [
    "linha = \"Eu sou o Luís, estudo engenharia biomédica com os meus e as minhas colegas. Tanto eles como elas são muito fixes! E tu?\"\n",
    "\n",
    "def pronomes(string):\n",
    "    eu_found = 0\n",
    "    tu_found = 0\n",
    "    ele_found = 0\n",
    "    ela_found = 0\n",
    "    nos_found = 0\n",
    "    vos_found = 0\n",
    "    eles_found = 0\n",
    "    elas_found = 0\n",
    "    \n",
    "    if len(re.findall(\"(?i:eu)\\s\", string)) > 0 or len(re.findall(\"(?i:eu)[^\\s\\w\\d]\", string)) > 0:\n",
    "        eu_found = len(re.findall(\"(?i:eu)\\s\", string)) + len(re.findall(\"(?i:eu)[^\\s\\w\\d]\", string))\n",
    "        \n",
    "    if len(re.findall(\"(?i:tu)\\s\", string)) > 0 or len(re.findall(\"(?i:tu)[^\\s\\w\\d]\", string)) > 0:\n",
    "        tu_found = len(re.findall(\"(?i:tu)\\s\", string)) + len(re.findall(\"(?i:tu)[^\\s\\w\\d]\", string))\n",
    "        \n",
    "    if len(re.findall(\"(?i:ele)\\s\", string)) > 0 or len(re.findall(\"(?i:ele)[^\\s\\w\\d]\", string)) > 0:\n",
    "        ele_found = len(re.findall(\"(?i:ele)\\s\", string)) + len(re.findall(\"(?i:ele)[^\\s\\w\\d]\", string))\n",
    "        \n",
    "    if len(re.findall(\"(?i:ela)\\s\", string)) > 0 or len(re.findall(\"(?i:ela)[^\\s\\w\\d]\", string)) > 0:\n",
    "        ela_found = len(re.findall(\"(?i:ela)\\s\", string)) + len(re.findall(\"(?i:ela)[^\\s\\w\\d]\", string))\n",
    "        \n",
    "    if len(re.findall(\"(?i:nós)\\s\", string)) > 0 or len(re.findall(\"(?i:nós)[^\\s\\w\\d]\", string)) > 0:\n",
    "        nos_found = len(re.findall(\"(?i:nós)\\s\", string)) + len(re.findall(\"(?i:nós)[^\\s\\w\\d]\", string))\n",
    "        \n",
    "    if len(re.findall(\"(?i:vós)\\s\", string)) > 0 or len(re.findall(\"(?i:vós)[^\\s\\w\\d]\", string)) > 0:\n",
    "        vos_found = len(re.findall(\"(?i:vós)\\s\", string)) + len(re.findall(\"(?i:vós)[^\\s\\w\\d]\", string))\n",
    "        \n",
    "    if len(re.findall(\"(?i:eles)\\s\", string)) > 0 or len(re.findall(\"(?i:eles)[^\\s\\w\\d]\", string)) > 0:\n",
    "        eles_found = len(re.findall(\"(?i:eles)\\s\", string)) + len(re.findall(\"(?i:eles)[^\\s\\w\\d]\", string))\n",
    "        \n",
    "    if len(re.findall(\"(?i:elas)\\s\", string)) > 0 or len(re.findall(\"(?i:elas)[^\\s\\w\\d]\", string)) > 0:\n",
    "        elas_found = len(re.findall(\"(?i:elas)\\s\", string)) + len(re.findall(\"(?i:elas)[^\\s\\w\\d]\", string))\n",
    "        \n",
    "    message = f\"\"\"\n",
    "    ~~~~~~Pronomes encontrados:~~~~~\n",
    "    \n",
    "    Eu: {eu_found}\n",
    "    Tu: {tu_found}\n",
    "    Ele: {ele_found}\n",
    "    Ela: {ela_found}\n",
    "    Nós: {nos_found}\n",
    "    Vós: {vos_found}\n",
    "    Eles: {eles_found}\n",
    "    Elas: {elas_found}\n",
    "    \"\"\"\n",
    "        \n",
    "    return message\n",
    "\n",
    "print(pronomes(linha))"
   ]
  },
  {
   "cell_type": "markdown",
   "metadata": {
    "id": "BHMk88OQ0XFY"
   },
   "source": [
    "## Exercício 7\n",
    "\n",
    "Define a função `variavel_valida` que recebe uma string e determina se a mesma é um nome válido para uma variável, ou seja, se começa por uma letra e apenas contém letras, números ou *underscores*."
   ]
  },
  {
   "cell_type": "code",
   "execution_count": 35,
   "metadata": {
    "id": "YTQW91Ws1WLx"
   },
   "outputs": [
    {
     "name": "stdout",
     "output_type": "stream",
     "text": [
      "Nome de variável válido!\n",
      "Nome de variável inválido\n",
      "Nome de variável válido!\n",
      "Nome de variável válido!\n",
      "Nome de variável válido!\n",
      "Nome de variável inválido\n",
      "Nome de variável inválido\n",
      "Nome de variável inválido\n"
     ]
    }
   ],
   "source": [
    "def variavel_valida(string):\n",
    "    if re.search(\"^[a-z]\", string) and re.search(\"^(?i:[a-z_])+$\", string): #regex foi uma challenge\n",
    "        message = \"Nome de variável válido!\"\n",
    "    else:\n",
    "        message = \"Nome de variável inválido\"\n",
    "    return message\n",
    "        \n",
    "print(variavel_valida(\"alpha\"))\n",
    "print(variavel_valida(\"Alpha\"))\n",
    "print(variavel_valida(\"alpha_Beta\"))\n",
    "print(variavel_valida(\"aLPHA\"))\n",
    "print(variavel_valida(\"alpha_beta\"))\n",
    "print(variavel_valida(\"alpha beta\"))\n",
    "print(variavel_valida(\"alpha.beta\"))\n",
    "print(variavel_valida(\"alpha&beta\"))"
   ]
  },
  {
   "cell_type": "markdown",
   "metadata": {
    "id": "ZRWbgkMM5qzx"
   },
   "source": [
    "## Exercício 8\n",
    "\n",
    "Define a função `inteiros` que devolve todos os números inteiros presentes numa string. Um número inteiro pode conter um ou mais dígitos e pode ser positivo ou negativo."
   ]
  },
  {
   "cell_type": "code",
   "execution_count": 45,
   "metadata": {
    "id": "jsmiEi6gA7vh"
   },
   "outputs": [
    {
     "name": "stdout",
     "output_type": "stream",
     "text": [
      "['1', '2', '22', '23']\n"
     ]
    }
   ],
   "source": [
    "linha = \"1 dia fui dormir mais cedo, faltavam 0.5h para as 22! 2 dias depois pensei que o melhor seria dormir sempre, o mais tardar, às 23.\"\n",
    "\n",
    "def inteiros(string):\n",
    "    if len(re.findall(\"\\d+\\s\", string)) > 0 or len(re.findall(\"\\d+[^\\s\\w\\d][^\\d]\", string)) > 0 or len(re.findall(\"\\d+[^\\s\\w\\d]$\", string)) > 0:\n",
    "        allfinds = re.findall(\"\\d+\\s\", string) + re.findall(\"\\d+[^\\s\\w\\d][^\\d]\", string) + re.findall(\"\\d+[^\\s\\w\\d]$\", string)\n",
    "        for i in allfinds:\n",
    "            allfinds[allfinds.index(i)] = re.sub(\"[^\\d\\w]\", \"\", i) \n",
    "    return allfinds\n",
    "\n",
    "print(inteiros(linha))\n",
    "\n",
    "#regex foi uma challenge\n",
    "#HIGHLIGHT"
   ]
  },
  {
   "cell_type": "markdown",
   "metadata": {
    "id": "QhpGhtBT7aD3"
   },
   "source": [
    "## Exercício 9\n",
    "\n",
    "Define a função `underscores` que substitui todos os espaços numa string por *underscores*. Se aparecerem vários espaços seguidos, devem ser substituídos por apenas um *underscore*."
   ]
  },
  {
   "cell_type": "code",
   "execution_count": 47,
   "metadata": {
    "id": "1YTIkZT-6Ase"
   },
   "outputs": [
    {
     "name": "stdout",
     "output_type": "stream",
     "text": [
      "Este_texto_tem_muitos_espaços_!_\n",
      "Esta string não tem espaços!\n"
     ]
    }
   ],
   "source": [
    "linha1 = \"Este   texto tem muitos    espaços !  \"\n",
    "linha2 = \"Olá!\"\n",
    "\n",
    "def underscores(string):\n",
    "    if re.search(\"\\s\", string):\n",
    "        message = re.sub(\"\\s+\", \"_\", string)\n",
    "    else:\n",
    "        message = \"Esta string não tem espaços!\"\n",
    "    return message\n",
    "\n",
    "print(underscores(linha1))\n",
    "print(underscores(linha2))"
   ]
  },
  {
   "cell_type": "markdown",
   "metadata": {
    "id": "xcUrRlIy8uof"
   },
   "source": [
    "## Exercício 10\n",
    "\n",
    "Define a função `codigos_postais` que recebe uma lista de códigos postais válidos e divide-os com base no hífen. A função deve devolver uma lista de pares."
   ]
  },
  {
   "cell_type": "code",
   "execution_count": 50,
   "metadata": {
    "id": "6xj01Oy09ncO"
   },
   "outputs": [
    {
     "name": "stdout",
     "output_type": "stream",
     "text": [
      "Códigos postais dividídos: \n",
      " [['4700', '000'], ['1234', '567'], ['8541', '543'], ['4123', '974'], ['9481', '025']] \n",
      "\n",
      "Códigos postais inválidos: \n",
      " ['678-8765', 'Braga', 'ola-vila']\n"
     ]
    }
   ],
   "source": [
    "lista = [\n",
    "    \"4700-000\",\n",
    "    \"1234-567\",\n",
    "    \"8541-543\",\n",
    "    \"4123-974\",\n",
    "    \"9481-025\",\n",
    "    \"678-8765\",\n",
    "    \"Braga\",\n",
    "    \"ola-vila\"\n",
    "]\n",
    "\n",
    "def codigos_postais(my_list):\n",
    "    zip_cd_divided_list = []\n",
    "    invalid_zcd_list = []\n",
    "    for i in my_list:\n",
    "        if re.search(\"\\d{4}-\\d{3}\", i):\n",
    "            zip_cd_divided = re.split(\"-\", i)\n",
    "            zip_cd_divided_list.append(zip_cd_divided)\n",
    "        else:\n",
    "            invalid_zcd_list.append(i)\n",
    "            \n",
    "    message = f\"Códigos postais dividídos: \\n {zip_cd_divided_list} \\n\\nCódigos postais inválidos: \\n {invalid_zcd_list}\"\n",
    "    return message\n",
    "\n",
    "print(codigos_postais(lista))"
   ]
  },
  {
   "cell_type": "code",
   "execution_count": null,
   "metadata": {},
   "outputs": [],
   "source": []
  }
 ],
 "metadata": {
  "colab": {
   "provenance": [],
   "toc_visible": true
  },
  "kernelspec": {
   "display_name": "Python 3 (ipykernel)",
   "language": "python",
   "name": "python3"
  },
  "language_info": {
   "codemirror_mode": {
    "name": "ipython",
    "version": 3
   },
   "file_extension": ".py",
   "mimetype": "text/x-python",
   "name": "python",
   "nbconvert_exporter": "python",
   "pygments_lexer": "ipython3",
   "version": "3.11.5"
  }
 },
 "nbformat": 4,
 "nbformat_minor": 1
}
