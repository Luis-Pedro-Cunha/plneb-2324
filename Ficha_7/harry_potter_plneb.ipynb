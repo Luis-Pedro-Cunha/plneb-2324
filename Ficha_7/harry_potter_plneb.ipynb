{
 "cells": [
  {
   "cell_type": "markdown",
   "source": [
    "# Data Processing - Tokenization"
   ],
   "metadata": {
    "collapsed": false
   },
   "id": "1a5548237952859e"
  },
  {
   "cell_type": "code",
   "execution_count": 1,
   "outputs": [],
   "source": [
    "from gensim.models import Word2Vec \n",
    "from gensim.utils import tokenize\n",
    "\n",
    "f1 = open(\"Harry_Potter_Camara_Secreta-br.txt\",encoding=\"utf-8\")\n",
    "f2 = open(\"Harry_Potter_e_A_Pedra_Filosofal.txt\",encoding=\"utf-8\")\n",
    "harry_text_1 = f1.read()\n",
    "harry_text_2 = f2.read()\n",
    "harry_text = harry_text_1 + harry_text_2\n",
    "\n",
    "lines = harry_text.split(\"\\n\")\n",
    "\n",
    "tokens = []\n",
    "for line in lines:\n",
    "    token = list(tokenize(line, lower=True))\n",
    "    tokens.append(token)"
   ],
   "metadata": {
    "collapsed": false,
    "ExecuteTime": {
     "end_time": "2024-05-07T21:51:37.372222Z",
     "start_time": "2024-05-07T21:51:14.936221Z"
    }
   },
   "id": "initial_id"
  },
  {
   "cell_type": "markdown",
   "source": [
    "# Models & Biggest Similarity"
   ],
   "metadata": {
    "collapsed": false
   },
   "id": "acfc7a8fa46989ec"
  },
  {
   "cell_type": "code",
   "execution_count": 2,
   "outputs": [
    {
     "name": "stdout",
     "output_type": "stream",
     "text": [
      "-----MODELO 1-----\n",
      "[('neville', 0.7601889371871948), ('mione', 0.7506452202796936), ('ele', 0.7295529842376709), ('draco', 0.7291330099105835), ('hermione', 0.6863510012626648), ('hagrid', 0.6854516267776489), ('quirrell', 0.665884256362915), ('ansioso', 0.6503347158432007), ('colin', 0.6369715929031372), ('repente', 0.635898232460022)]\n",
      "\n",
      "-----MODELO 2-----\n",
      "[('neville', 0.6989670991897583), ('ele', 0.6948242783546448), ('mione', 0.678512454032898), ('hermione', 0.6627357006072998), ('draco', 0.6516938209533691), ('ela', 0.6446245908737183), ('enjoar', 0.6411951184272766), ('aquecido', 0.6372401714324951), ('quirrell', 0.6265674233436584), ('escapar', 0.621118426322937)]\n",
      "\n",
      "-----MODELO 3-----\n",
      "[('ele', 0.7430563569068909), ('mione', 0.7350335717201233), ('neville', 0.7269324064254761), ('draco', 0.7240273952484131), ('hermione', 0.6942518949508667), ('hagrid', 0.6838089823722839), ('rony', 0.6837202310562134), ('quirrell', 0.6770268678665161), ('riddle', 0.6516918540000916), ('repente', 0.6487228274345398)]\n",
      "\n",
      "-----MODELO 4-----\n",
      "[('neville', 0.6020533442497253), ('ele', 0.5720192790031433), ('mione', 0.5619860291481018), ('velhinho', 0.5495463609695435), ('então', 0.5387035608291626), ('dormir', 0.5203982591629028), ('repente', 0.5193679928779602), ('desesperado', 0.49935391545295715), ('escapar', 0.49694743752479553), ('draco', 0.49053868651390076)]\n"
     ]
    }
   ],
   "source": [
    "model1 = Word2Vec(tokens, vector_size= 300, window= 5, min_count= 1, epochs= 20)\n",
    "model2 = Word2Vec(tokens, vector_size= 300, window= 8, min_count= 1, epochs= 20)\n",
    "model3 = Word2Vec(tokens, vector_size= 350, window= 5, min_count= 1, epochs= 20)\n",
    "model4 = Word2Vec(tokens, vector_size= 300, window= 5, min_count= 1, epochs= 30)\n",
    "\n",
    "print(\"-----MODELO 1-----\")\n",
    "print(model1.wv.most_similar(\"harry\"))\n",
    "print(\"\\n-----MODELO 2-----\")\n",
    "print(model2.wv.most_similar(\"harry\"))\n",
    "print(\"\\n-----MODELO 3-----\")\n",
    "print(model3.wv.most_similar(\"harry\"))\n",
    "print(\"\\n-----MODELO 4-----\")\n",
    "print(model4.wv.most_similar(\"harry\"))\n"
   ],
   "metadata": {
    "collapsed": false,
    "ExecuteTime": {
     "end_time": "2024-05-07T21:52:02.944245Z",
     "start_time": "2024-05-07T21:51:41.401175Z"
    }
   },
   "id": "6b8896047b21fcfe"
  },
  {
   "cell_type": "markdown",
   "source": [
    "# Similarity tests"
   ],
   "metadata": {
    "collapsed": false
   },
   "id": "263c8caabafdf083"
  },
  {
   "cell_type": "code",
   "execution_count": 3,
   "outputs": [
    {
     "name": "stdout",
     "output_type": "stream",
     "text": [
      "-----MODELO 1-----\n",
      "Harry e varinha: 0.5465645790100098\n",
      "Ron e Hermione: 0.46202605962753296\n",
      "Dumbledore e diretor: 0.5526217818260193\n",
      "Snape e poção: 0.43899667263031006\n",
      "Hagrid e Harry: 0.6854515075683594\n",
      "Ron e leviosa: 0.9017210602760315\n",
      "Draco e Sonserina: 0.1355883926153183\n",
      "\n",
      "-----MODELO 2-----\n",
      "Harry e varinha: 0.5142147541046143\n",
      "Ron e Hermione: 0.5931516885757446\n",
      "Dumbledore e diretor: 0.5086106061935425\n",
      "Snape e poção: 0.49870654940605164\n",
      "Hagrid e Harry: 0.5734495520591736\n",
      "Ron e leviosa: 0.7741404175758362\n",
      "Draco e Sonserina: 0.11483773589134216\n",
      "\n",
      "-----MODELO 3-----\n",
      "Harry e varinha: 0.5146099925041199\n",
      "Ron e Hermione: 0.5100445747375488\n",
      "Dumbledore e diretor: 0.5241636633872986\n",
      "Snape e poção: 0.48570191860198975\n",
      "Hagrid e Harry: 0.6838089823722839\n",
      "Ron e leviosa: 0.9104951620101929\n",
      "Draco e Sonserina: 0.0732392892241478\n",
      "\n",
      "-----MODELO 4-----\n",
      "Harry e varinha: 0.3627672791481018\n",
      "Ron e Hermione: 0.2645052373409271\n",
      "Dumbledore e diretor: 0.3958207070827484\n",
      "Snape e poção: 0.1604681760072708\n",
      "Hagrid e Harry: 0.3936450481414795\n",
      "Ron e leviosa: 0.8666384220123291\n",
      "Draco e Sonserina: 0.033447880297899246\n"
     ]
    }
   ],
   "source": [
    "sim_harry_varinha = model1.wv.similarity(\"harry\",\"varinha\")\n",
    "sim_ron_hermione = model1.wv.similarity(\"ron\",\"hermione\")\n",
    "sim_dumbledore_diretor = model1.wv.similarity(\"dumbledore\",\"diretor\")\n",
    "sim_snape_pocao = model1.wv.similarity(\"snape\",\"poção\")\n",
    "sim_hagrid_harry = model1.wv.similarity(\"hagrid\",\"harry\")\n",
    "sim_ron_leviosa = model1.wv.similarity(\"ron\",\"leviosa\")\n",
    "sim_draco_sonserina = model1.wv.similarity(\"draco\",\"sonserina\")\n",
    "\n",
    "print(\"-----MODELO 1-----\")\n",
    "print(f\"Harry e varinha: {sim_harry_varinha}\")\n",
    "print(f\"Ron e Hermione: {sim_ron_hermione}\")\n",
    "print(f\"Dumbledore e diretor: {sim_dumbledore_diretor}\")\n",
    "print(f\"Snape e poção: {sim_snape_pocao}\")\n",
    "print(f\"Hagrid e Harry: {sim_hagrid_harry}\")\n",
    "print(f\"Ron e leviosa: {sim_ron_leviosa}\")\n",
    "print(f\"Draco e Sonserina: {sim_draco_sonserina}\")\n",
    "\n",
    "sim_harry_varinha = model2.wv.similarity(\"harry\",\"varinha\")\n",
    "sim_ron_hermione = model2.wv.similarity(\"ron\",\"hermione\")\n",
    "sim_dumbledore_diretor = model2.wv.similarity(\"dumbledore\",\"diretor\")\n",
    "sim_snape_pocao = model2.wv.similarity(\"snape\",\"poção\")\n",
    "sim_hagrid_harry = model2.wv.similarity(\"hagrid\",\"harry\")\n",
    "sim_ron_leviosa = model2.wv.similarity(\"ron\",\"leviosa\")\n",
    "sim_draco_sonserina = model2.wv.similarity(\"draco\",\"sonserina\")\n",
    "\n",
    "print(\"\\n-----MODELO 2-----\")\n",
    "print(f\"Harry e varinha: {sim_harry_varinha}\")\n",
    "print(f\"Ron e Hermione: {sim_ron_hermione}\")\n",
    "print(f\"Dumbledore e diretor: {sim_dumbledore_diretor}\")\n",
    "print(f\"Snape e poção: {sim_snape_pocao}\")\n",
    "print(f\"Hagrid e Harry: {sim_hagrid_harry}\")\n",
    "print(f\"Ron e leviosa: {sim_ron_leviosa}\")\n",
    "print(f\"Draco e Sonserina: {sim_draco_sonserina}\")\n",
    "\n",
    "sim_harry_varinha = model3.wv.similarity(\"harry\",\"varinha\")\n",
    "sim_ron_hermione = model3.wv.similarity(\"ron\",\"hermione\")\n",
    "sim_dumbledore_diretor = model3.wv.similarity(\"dumbledore\",\"diretor\")\n",
    "sim_snape_pocao = model3.wv.similarity(\"snape\",\"poção\")\n",
    "sim_hagrid_harry = model3.wv.similarity(\"hagrid\",\"harry\")\n",
    "sim_ron_leviosa = model3.wv.similarity(\"ron\",\"leviosa\")\n",
    "sim_draco_sonserina = model3.wv.similarity(\"draco\",\"sonserina\")\n",
    "\n",
    "print(\"\\n-----MODELO 3-----\")\n",
    "print(f\"Harry e varinha: {sim_harry_varinha}\")\n",
    "print(f\"Ron e Hermione: {sim_ron_hermione}\")\n",
    "print(f\"Dumbledore e diretor: {sim_dumbledore_diretor}\")\n",
    "print(f\"Snape e poção: {sim_snape_pocao}\")\n",
    "print(f\"Hagrid e Harry: {sim_hagrid_harry}\")\n",
    "print(f\"Ron e leviosa: {sim_ron_leviosa}\")\n",
    "print(f\"Draco e Sonserina: {sim_draco_sonserina}\")\n",
    "\n",
    "sim_harry_varinha = model4.wv.similarity(\"harry\",\"varinha\")\n",
    "sim_ron_hermione = model4.wv.similarity(\"ron\",\"hermione\")\n",
    "sim_dumbledore_diretor = model4.wv.similarity(\"dumbledore\",\"diretor\")\n",
    "sim_snape_pocao = model4.wv.similarity(\"snape\",\"poção\")\n",
    "sim_hagrid_harry = model4.wv.similarity(\"hagrid\",\"harry\")\n",
    "sim_ron_leviosa = model4.wv.similarity(\"ron\",\"leviosa\")\n",
    "sim_draco_sonserina = model4.wv.similarity(\"draco\",\"sonserina\")\n",
    "\n",
    "print(\"\\n-----MODELO 4-----\")\n",
    "print(f\"Harry e varinha: {sim_harry_varinha}\")\n",
    "print(f\"Ron e Hermione: {sim_ron_hermione}\")\n",
    "print(f\"Dumbledore e diretor: {sim_dumbledore_diretor}\")\n",
    "print(f\"Snape e poção: {sim_snape_pocao}\")\n",
    "print(f\"Hagrid e Harry: {sim_hagrid_harry}\")\n",
    "print(f\"Ron e leviosa: {sim_ron_leviosa}\")\n",
    "print(f\"Draco e Sonserina: {sim_draco_sonserina}\")"
   ],
   "metadata": {
    "collapsed": false,
    "ExecuteTime": {
     "end_time": "2024-05-07T21:52:03.030581Z",
     "start_time": "2024-05-07T21:52:02.945098Z"
    }
   },
   "id": "4673c4f810d4d8d1"
  },
  {
   "cell_type": "markdown",
   "source": [
    "# Doesn't Match"
   ],
   "metadata": {
    "collapsed": false
   },
   "id": "58cf70d02599e9be"
  },
  {
   "cell_type": "code",
   "execution_count": 4,
   "outputs": [
    {
     "name": "stdout",
     "output_type": "stream",
     "text": [
      "-----MODELO 1-----\n",
      "ODD ONE OUT\n",
      "Harry, Ron, Hermione e Draco: ron\n",
      "Potter, Weasley, Granger e Malfoy: granger\n",
      "Grifinória, Corvinal, Lufa-lufa e chapéu: chapéu\n",
      "Hagrid, Dumbledore, Snape e Voldemort: voldemort\n",
      "\n",
      "-----MODELO 2-----\n",
      "ODD ONE OUT\n",
      "Harry, Ron, Hermione e Draco: ron\n",
      "Potter, Weasley, Granger e Malfoy: granger\n",
      "Grifinória, Corvinal, Lufa-lufa e chapéu: chapéu\n",
      "Hagrid, Dumbledore, Snape e Voldemort: voldemort\n",
      "\n",
      "-----MODELO 3-----\n",
      "ODD ONE OUT\n",
      "Harry, Ron, Hermione e Draco: ron\n",
      "Potter, Weasley, Granger e Malfoy: granger\n",
      "Grifinória, Corvinal, Lufa-lufa e chapéu: chapéu\n",
      "Hagrid, Dumbledore, Snape e Voldemort: voldemort\n",
      "\n",
      "-----MODELO 4-----\n",
      "ODD ONE OUT\n",
      "Harry, Ron, Hermione e Draco: ron\n",
      "Potter, Weasley, Granger e Malfoy: granger\n",
      "Grifinória, Corvinal, Lufa-lufa e chapéu: chapéu\n",
      "Hagrid, Dumbledore, Snape e Voldemort: voldemort\n"
     ]
    }
   ],
   "source": [
    "dm_1 = model1.wv.doesnt_match([\"harry\",\"ron\",\"hermione\",\"draco\"])\n",
    "dm_2 = model1.wv.doesnt_match([\"potter\",\"weasley\",\"granger\",\"malfoy\"])\n",
    "dm_3 = model1.wv.doesnt_match([\"grifinória\",\"corvinal\",\"lufa-lufa\",\"chapéu\"])\n",
    "dm_4 = model1.wv.doesnt_match([\"hagrid\",\"dumbledore\",\"snape\",\"voldemort\"])\n",
    "\n",
    "print(\"-----MODELO 1-----\")\n",
    "print(f\"\"\"ODD ONE OUT\n",
    "Harry, Ron, Hermione e Draco: {dm_1}\n",
    "Potter, Weasley, Granger e Malfoy: {dm_2}\n",
    "Grifinória, Corvinal, Lufa-lufa e chapéu: {dm_3}\n",
    "Hagrid, Dumbledore, Snape e Voldemort: {dm_4}\"\"\")\n",
    "\n",
    "dm_1 = model2.wv.doesnt_match([\"harry\",\"ron\",\"hermione\",\"draco\"])\n",
    "dm_2 = model2.wv.doesnt_match([\"potter\",\"weasley\",\"granger\",\"malfoy\"])\n",
    "dm_3 = model2.wv.doesnt_match([\"grifinória\",\"corvinal\",\"lufa-lufa\",\"chapéu\"])\n",
    "dm_4 = model2.wv.doesnt_match([\"hagrid\",\"dumbledore\",\"snape\",\"voldemort\"])\n",
    "\n",
    "print(\"\\n-----MODELO 2-----\")\n",
    "print(f\"\"\"ODD ONE OUT\n",
    "Harry, Ron, Hermione e Draco: {dm_1}\n",
    "Potter, Weasley, Granger e Malfoy: {dm_2}\n",
    "Grifinória, Corvinal, Lufa-lufa e chapéu: {dm_3}\n",
    "Hagrid, Dumbledore, Snape e Voldemort: {dm_4}\"\"\")\n",
    "\n",
    "dm_1 = model3.wv.doesnt_match([\"harry\",\"ron\",\"hermione\",\"draco\"])\n",
    "dm_2 = model3.wv.doesnt_match([\"potter\",\"weasley\",\"granger\",\"malfoy\"])\n",
    "dm_3 = model3.wv.doesnt_match([\"grifinória\",\"corvinal\",\"lufa-lufa\",\"chapéu\"])\n",
    "dm_4 = model3.wv.doesnt_match([\"hagrid\",\"dumbledore\",\"snape\",\"voldemort\"])\n",
    "\n",
    "print(\"\\n-----MODELO 3-----\")\n",
    "print(f\"\"\"ODD ONE OUT\n",
    "Harry, Ron, Hermione e Draco: {dm_1}\n",
    "Potter, Weasley, Granger e Malfoy: {dm_2}\n",
    "Grifinória, Corvinal, Lufa-lufa e chapéu: {dm_3}\n",
    "Hagrid, Dumbledore, Snape e Voldemort: {dm_4}\"\"\")\n",
    "\n",
    "dm_1 = model4.wv.doesnt_match([\"harry\",\"ron\",\"hermione\",\"draco\"])\n",
    "dm_2 = model4.wv.doesnt_match([\"potter\",\"weasley\",\"granger\",\"malfoy\"])\n",
    "dm_3 = model4.wv.doesnt_match([\"grifinória\",\"corvinal\",\"lufa-lufa\",\"chapéu\"])\n",
    "dm_4 = model4.wv.doesnt_match([\"hagrid\",\"dumbledore\",\"snape\",\"voldemort\"])\n",
    "\n",
    "print(\"\\n-----MODELO 4-----\")\n",
    "print(f\"\"\"ODD ONE OUT\n",
    "Harry, Ron, Hermione e Draco: {dm_1}\n",
    "Potter, Weasley, Granger e Malfoy: {dm_2}\n",
    "Grifinória, Corvinal, Lufa-lufa e chapéu: {dm_3}\n",
    "Hagrid, Dumbledore, Snape e Voldemort: {dm_4}\"\"\")"
   ],
   "metadata": {
    "collapsed": false,
    "ExecuteTime": {
     "end_time": "2024-05-07T21:52:03.032937Z",
     "start_time": "2024-05-07T21:52:02.973485Z"
    }
   },
   "id": "4ee25afbfe6b8349"
  },
  {
   "cell_type": "markdown",
   "source": [
    "# Most Similar (positive and negative)"
   ],
   "metadata": {
    "collapsed": false
   },
   "id": "77dfa06c9257d79"
  },
  {
   "cell_type": "code",
   "execution_count": 5,
   "outputs": [
    {
     "name": "stdout",
     "output_type": "stream",
     "text": [
      "-----MODELO 1-----\n",
      "Relacionado com \"Hogwarts\" e \"diretor\" e não relacionado com \"mau\": [('ninho', 0.7458130121231079), ('multado', 0.7323659062385559), ('magia', 0.7191774249076843), ('possamos', 0.717244029045105), ('orgulho', 0.7056575417518616), ('lugar', 0.6962463855743408), ('caso', 0.6925522089004517), ('casa', 0.6871881484985352), ('escondido', 0.6854369044303894), ('tetratetra', 0.6728837490081787)]\n",
      "Relacionado com \"Grifinória\" e \"óculos\" e não relacionado com \"sonserina\": [('pés', 0.9287458062171936), ('dedos', 0.9141640663146973), ('garotos', 0.9112762808799744), ('braços', 0.8997790813446045), ('ombros', 0.8899886012077332), ('ramos', 0.8845310807228088), ('lados', 0.8778131008148193), ('cessaram', 0.872702419757843), ('calcanhares', 0.8685228824615479), ('gêmeos', 0.8648925423622131)]\n",
      "\n",
      "-----MODELO 2-----\n",
      "Relacionado com \"Hogwarts\" e \"diretor\" e não relacionado com \"mau\": [('esperado', 0.8302916288375854), ('pense', 0.7735630869865417), ('acredite', 0.7618426084518433), ('usar', 0.7584918141365051), ('multado', 0.7558140158653259), ('herdeiro', 0.7427853941917419), ('mim', 0.7363739013671875), ('magia', 0.7334487438201904), ('vovó', 0.7334125638008118), ('normas', 0.7311399579048157)]\n",
      "Relacionado com \"Grifinória\" e \"óculos\" e não relacionado com \"sonserina\": [('pés', 0.9112181067466736), ('dedos', 0.9030805230140686), ('braços', 0.900134801864624), ('garotos', 0.8906675577163696), ('ombros', 0.886148989200592), ('ramos', 0.8816688060760498), ('pesados', 0.8647463321685791), ('estendidos', 0.862557590007782), ('lados', 0.8609493374824524), ('cruzados', 0.8599827885627747)]\n",
      "\n",
      "-----MODELO 3-----\n",
      "Relacionado com \"Hogwarts\" e \"diretor\" e não relacionado com \"mau\": [('ninho', 0.7669445276260376), ('presenciado', 0.7336927056312561), ('quisermos', 0.6978012323379517), ('pense', 0.6966766119003296), ('segue', 0.6870752573013306), ('variar', 0.6859935522079468), ('caso', 0.6838148236274719), ('possamos', 0.6828731894493103), ('magia', 0.6722214818000793), ('confiscado', 0.6718804240226746)]\n",
      "Relacionado com \"Grifinória\" e \"óculos\" e não relacionado com \"sonserina\": [('pés', 0.9119105339050293), ('braços', 0.9046438336372375), ('gêmeos', 0.9017269611358643), ('ombros', 0.9013311862945557), ('dedos', 0.8993915915489197), ('garotos', 0.8925198912620544), ('ramos', 0.8749101758003235), ('degraus', 0.8712811470031738), ('cabelos', 0.8705088496208191), ('deulhes', 0.8694143295288086)]\n",
      "\n",
      "-----MODELO 4-----\n",
      "Relacionado com \"Hogwarts\" e \"diretor\" e não relacionado com \"mau\": [('magia', 0.5907802581787109), ('setembro', 0.5861170887947083), ('escondido', 0.5800632834434509), ('transformar', 0.5671404600143433), ('londres', 0.5654054284095764), ('possamos', 0.5614263415336609), ('ninho', 0.5566100478172302), ('segue', 0.545141339302063), ('tentar', 0.5379769206047058), ('escola', 0.5368123650550842)]\n",
      "Relacionado com \"Grifinória\" e \"óculos\" e não relacionado com \"sonserina\": [('ombros', 0.7874003052711487), ('passos', 0.7801253199577332), ('tornozelos', 0.7723575830459595), ('pés', 0.7679269313812256), ('dedos', 0.7676100134849548), ('braços', 0.7664772272109985), ('ramos', 0.7571671009063721), ('deulhes', 0.7541866898536682), ('gêmeos', 0.7481898069381714), ('joelhos', 0.7379215955734253)]\n"
     ]
    }
   ],
   "source": [
    "ms_pn_1 = model1.wv.most_similar(positive=['hogwarts', 'diretor'], negative=['mau'])\n",
    "ms_pn_2 = model1.wv.most_similar(positive=['grifinória', 'óculos'], negative=['sonserina'])\n",
    "\n",
    "print(\"-----MODELO 1-----\")\n",
    "print(f\"Relacionado com \\\"Hogwarts\\\" e \\\"diretor\\\" e não relacionado com \\\"mau\\\": {ms_pn_1}\")\n",
    "print(f\"Relacionado com \\\"Grifinória\\\" e \\\"óculos\\\" e não relacionado com \\\"sonserina\\\": {ms_pn_2}\")\n",
    "\n",
    "ms_pn_1 = model2.wv.most_similar(positive=['hogwarts', 'diretor'], negative=['mau'])\n",
    "ms_pn_2 = model2.wv.most_similar(positive=['grifinória', 'óculos'], negative=['sonserina'])\n",
    "\n",
    "print(\"\\n-----MODELO 2-----\")\n",
    "print(f\"Relacionado com \\\"Hogwarts\\\" e \\\"diretor\\\" e não relacionado com \\\"mau\\\": {ms_pn_1}\")\n",
    "print(f\"Relacionado com \\\"Grifinória\\\" e \\\"óculos\\\" e não relacionado com \\\"sonserina\\\": {ms_pn_2}\")\n",
    "\n",
    "ms_pn_1 = model3.wv.most_similar(positive=['hogwarts', 'diretor'], negative=['mau'])\n",
    "ms_pn_2 = model3.wv.most_similar(positive=['grifinória', 'óculos'], negative=['sonserina'])\n",
    "\n",
    "print(\"\\n-----MODELO 3-----\")\n",
    "print(f\"Relacionado com \\\"Hogwarts\\\" e \\\"diretor\\\" e não relacionado com \\\"mau\\\": {ms_pn_1}\")\n",
    "print(f\"Relacionado com \\\"Grifinória\\\" e \\\"óculos\\\" e não relacionado com \\\"sonserina\\\": {ms_pn_2}\")\n",
    "\n",
    "ms_pn_1 = model4.wv.most_similar(positive=['hogwarts', 'diretor'], negative=['mau'])\n",
    "ms_pn_2 = model4.wv.most_similar(positive=['grifinória', 'óculos'], negative=['sonserina'])\n",
    "\n",
    "print(\"\\n-----MODELO 4-----\")\n",
    "print(f\"Relacionado com \\\"Hogwarts\\\" e \\\"diretor\\\" e não relacionado com \\\"mau\\\": {ms_pn_1}\")\n",
    "print(f\"Relacionado com \\\"Grifinória\\\" e \\\"óculos\\\" e não relacionado com \\\"sonserina\\\": {ms_pn_2}\")"
   ],
   "metadata": {
    "collapsed": false,
    "ExecuteTime": {
     "end_time": "2024-05-07T21:52:03.054093Z",
     "start_time": "2024-05-07T21:52:02.998129Z"
    }
   },
   "id": "88abf7cb84ea08a8"
  }
 ],
 "metadata": {
  "kernelspec": {
   "display_name": "Python 3",
   "language": "python",
   "name": "python3"
  },
  "language_info": {
   "codemirror_mode": {
    "name": "ipython",
    "version": 2
   },
   "file_extension": ".py",
   "mimetype": "text/x-python",
   "name": "python",
   "nbconvert_exporter": "python",
   "pygments_lexer": "ipython2",
   "version": "2.7.6"
  }
 },
 "nbformat": 4,
 "nbformat_minor": 5
}
